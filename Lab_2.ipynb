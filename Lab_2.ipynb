{
  "nbformat": 4,
  "nbformat_minor": 0,
  "metadata": {
    "colab": {
      "provenance": []
    },
    "kernelspec": {
      "name": "python3",
      "display_name": "Python 3"
    },
    "language_info": {
      "name": "python"
    }
  },
  "cells": [
    {
      "cell_type": "code",
      "source": [
        "import numpy as np\n",
        "import math"
      ],
      "metadata": {
        "id": "9WzVi9e2_mWD"
      },
      "execution_count": 68,
      "outputs": []
    },
    {
      "cell_type": "code",
      "execution_count": 69,
      "metadata": {
        "id": "uZGHZ9z5_Z5t"
      },
      "outputs": [],
      "source": [
        "class Parameter:\n",
        "    def __init__(self, value: float, name: str) -> None:\n",
        "        self._value = value\n",
        "        self._name = name\n",
        "\n",
        "        self._grad = 0.0\n",
        "        self._backward = lambda: None\n",
        "        self._prev = []\n",
        "\n",
        "    def __repr__(self) -> str:\n",
        "        return f\"Parameter {self._name} = {self._value}; dL/d[{self._name}] = {self._grad}\"\n",
        "\n",
        "    def __mul__(self, other: 'Parameter') -> 'Parameter':\n",
        "        result = Parameter(\n",
        "            self._value * other._value,\n",
        "            f'{self._name} * {other._name}'\n",
        "        )\n",
        "\n",
        "        def _backward():\n",
        "            self._grad += other._value * result._grad\n",
        "            other._grad += self._value * result._grad\n",
        "\n",
        "        result._backward = _backward\n",
        "        result._prev = [self, other]\n",
        "\n",
        "        return result\n",
        "\n",
        "    def __add__(self, other: 'Parameter') -> 'Parameter':\n",
        "        result = Parameter(\n",
        "            self._value + other._value,\n",
        "            f'[{self._name} + {other._name}]'\n",
        "        )\n",
        "\n",
        "        def _backward():\n",
        "            self._grad += 1.0 * result._grad\n",
        "            other._grad += 1.0 * result._grad\n",
        "\n",
        "        result._backward = _backward\n",
        "        result._prev = [self, other]\n",
        "\n",
        "        return result\n",
        "\n",
        "    def sigmoid(self) -> 'Parameter':\n",
        "        val = 1.0 / (1.0 + math.exp(-self._value))\n",
        "\n",
        "        result = Parameter(\n",
        "            val,\n",
        "            f\"σ({self._name})\"\n",
        "        )\n",
        "\n",
        "        def _backward():\n",
        "            self._grad += result._grad * val * (1 - val)\n",
        "\n",
        "        result._backward = _backward\n",
        "        result._prev = [self]\n",
        "\n",
        "        return result\n",
        "\n",
        "    def relu(self) -> 'Parameter':\n",
        "        val = max(0, self._value)\n",
        "\n",
        "        result = Parameter(\n",
        "            val,\n",
        "            f\"ReLU({self._name})\"\n",
        "        )\n",
        "\n",
        "        def _backward():\n",
        "            self._grad += result._grad * (1.0 if self._value > 0 else 0.0)\n",
        "\n",
        "        result._backward = _backward\n",
        "        result._prev = [self]\n",
        "\n",
        "        return result\n",
        "\n",
        "    def silu(self) -> 'Parameter':\n",
        "        sigmoid = 1.0 / (1.0 + math.exp(-self._value))\n",
        "        val = self._value * sigmoid\n",
        "\n",
        "        result = Parameter(\n",
        "            val,\n",
        "            f\"SiLU({self._name})\"\n",
        "        )\n",
        "\n",
        "        def _backward():\n",
        "            self._grad += result._grad * (sigmoid * (1 + self._value * (1 - sigmoid)))\n",
        "\n",
        "        result._backward = _backward\n",
        "        result._prev = [self]\n",
        "\n",
        "        return result\n",
        "\n",
        "    def backward(self):\n",
        "        visited = set()\n",
        "        order = []\n",
        "\n",
        "        def topo_sort(node):\n",
        "            if node not in visited:\n",
        "                visited.add(node)\n",
        "                for prev_node in node._prev:\n",
        "                    topo_sort(prev_node)\n",
        "                order.append(node)\n",
        "\n",
        "        topo_sort(self)\n",
        "        self._grad = 1.0\n",
        "        for node in reversed(order):\n",
        "            node._backward()\n",
        "\n",
        "def sgd(parameters, learning_rate):\n",
        "    for param in parameters:\n",
        "        param._value -= learning_rate * param._grad\n",
        "        param._grad = 0.0\n"
      ]
    },
    {
      "cell_type": "markdown",
      "source": [
        "# Імплементувати автоматичний backpropagation (hint: topological sort, dfs)"
      ],
      "metadata": {
        "id": "IxiTnAKslzlj"
      }
    },
    {
      "cell_type": "code",
      "source": [
        "a = Parameter(2.0, \"a\")\n",
        "b = Parameter(3.0, \"b\")\n",
        "c = a * b\n",
        "d = c + a\n",
        "\n",
        "d.backward()\n",
        "\n",
        "print(a)\n",
        "print(b)\n",
        "print(c)\n",
        "print(d)"
      ],
      "metadata": {
        "colab": {
          "base_uri": "https://localhost:8080/"
        },
        "id": "INPehZa1l6Ko",
        "outputId": "f57dca04-5f68-42d6-d1c2-9cb3feead571"
      },
      "execution_count": 70,
      "outputs": [
        {
          "output_type": "stream",
          "name": "stdout",
          "text": [
            "Parameter a = 2.0; dL/d[a] = 4.0\n",
            "Parameter b = 3.0; dL/d[b] = 2.0\n",
            "Parameter a * b = 6.0; dL/d[a * b] = 1.0\n",
            "Parameter [a * b + a] = 8.0; dL/d[[a * b + a]] = 1.0\n"
          ]
        }
      ]
    },
    {
      "cell_type": "code",
      "source": [
        "a = Parameter(0.0, \"a\")\n",
        "b = a.sigmoid()\n",
        "\n",
        "b.backward()\n",
        "\n",
        "print(a)\n",
        "print(b)"
      ],
      "metadata": {
        "colab": {
          "base_uri": "https://localhost:8080/"
        },
        "id": "BBnvxE7vsTaC",
        "outputId": "d9efa391-f4b2-469c-ce57-48415ae1106d"
      },
      "execution_count": 71,
      "outputs": [
        {
          "output_type": "stream",
          "name": "stdout",
          "text": [
            "Parameter a = 0.0; dL/d[a] = 0.25\n",
            "Parameter σ(a) = 0.5; dL/d[σ(a)] = 1.0\n"
          ]
        }
      ]
    },
    {
      "cell_type": "code",
      "source": [
        "a = Parameter(1.0, \"a\")\n",
        "b = Parameter(2.0, \"b\")\n",
        "c = a * b\n",
        "d = c.sigmoid()\n",
        "e = d + a\n",
        "\n",
        "e.backward()\n",
        "\n",
        "print(a)\n",
        "print(b)\n",
        "print(c)\n",
        "print(d)\n",
        "print(e)"
      ],
      "metadata": {
        "colab": {
          "base_uri": "https://localhost:8080/"
        },
        "id": "xmhdMp6csY3Y",
        "outputId": "e65a0797-6208-4f92-de0b-d0b22ce60f1b"
      },
      "execution_count": 72,
      "outputs": [
        {
          "output_type": "stream",
          "name": "stdout",
          "text": [
            "Parameter a = 1.0; dL/d[a] = 1.2099871708070133\n",
            "Parameter b = 2.0; dL/d[b] = 0.10499358540350662\n",
            "Parameter a * b = 2.0; dL/d[a * b] = 0.10499358540350662\n",
            "Parameter σ(a * b) = 0.8807970779778823; dL/d[σ(a * b)] = 1.0\n",
            "Parameter [σ(a * b) + a] = 1.8807970779778822; dL/d[[σ(a * b) + a]] = 1.0\n"
          ]
        }
      ]
    },
    {
      "cell_type": "markdown",
      "source": [
        "# Імплементувати ті активації (2 з них), котрі ви обрали у lab 1(ReLU, SiLU)"
      ],
      "metadata": {
        "id": "ucLdRIwAl6qQ"
      }
    },
    {
      "cell_type": "code",
      "source": [
        "a = Parameter(-1.0, \"a\")\n",
        "b = Parameter(2.0, \"b\")\n",
        "c = a.relu()\n",
        "d = b.relu()\n",
        "\n",
        "print(c)\n",
        "print(d)\n",
        "\n",
        "c.backward()\n",
        "d.backward()\n",
        "\n",
        "print(a)\n",
        "print(b)"
      ],
      "metadata": {
        "colab": {
          "base_uri": "https://localhost:8080/"
        },
        "id": "PegofhggmHjd",
        "outputId": "80283af3-b3fa-485e-ed0a-e3a518fef17a"
      },
      "execution_count": 73,
      "outputs": [
        {
          "output_type": "stream",
          "name": "stdout",
          "text": [
            "Parameter ReLU(a) = 0; dL/d[ReLU(a)] = 0.0\n",
            "Parameter ReLU(b) = 2.0; dL/d[ReLU(b)] = 0.0\n",
            "Parameter a = -1.0; dL/d[a] = 0.0\n",
            "Parameter b = 2.0; dL/d[b] = 1.0\n"
          ]
        }
      ]
    },
    {
      "cell_type": "code",
      "source": [
        "a = Parameter(0.0, \"a\")\n",
        "b = a.sigmoid()\n",
        "\n",
        "print(b)\n",
        "\n",
        "b.backward()\n",
        "\n",
        "print(a)"
      ],
      "metadata": {
        "colab": {
          "base_uri": "https://localhost:8080/"
        },
        "id": "HTIyFqYcsdS_",
        "outputId": "f2908edc-03c9-4214-ab13-3493adee7421"
      },
      "execution_count": 74,
      "outputs": [
        {
          "output_type": "stream",
          "name": "stdout",
          "text": [
            "Parameter σ(a) = 0.5; dL/d[σ(a)] = 0.0\n",
            "Parameter a = 0.0; dL/d[a] = 0.25\n"
          ]
        }
      ]
    },
    {
      "cell_type": "code",
      "source": [
        "a = Parameter(1.0, \"a\")\n",
        "b = a.silu()\n",
        "\n",
        "print(b)\n",
        "\n",
        "b.backward()\n",
        "\n",
        "print(a)"
      ],
      "metadata": {
        "colab": {
          "base_uri": "https://localhost:8080/"
        },
        "id": "BS8m1TtzsiTg",
        "outputId": "72783b69-1cd0-4625-b702-4a450c773fe9"
      },
      "execution_count": 75,
      "outputs": [
        {
          "output_type": "stream",
          "name": "stdout",
          "text": [
            "Parameter SiLU(a) = 0.7310585786300049; dL/d[SiLU(a)] = 0.0\n",
            "Parameter a = 1.0; dL/d[a] = 0.9276705118714869\n"
          ]
        }
      ]
    },
    {
      "cell_type": "markdown",
      "source": [
        "# Імплементувати gradient  descent як окрему функцію"
      ],
      "metadata": {
        "id": "GTt7hQZVmID1"
      }
    },
    {
      "cell_type": "code",
      "source": [
        "a = Parameter(1.0, \"a\")\n",
        "a._grad = 2.0\n",
        "\n",
        "sgd([a], learning_rate=0.1)\n",
        "\n",
        "print(a)"
      ],
      "metadata": {
        "colab": {
          "base_uri": "https://localhost:8080/"
        },
        "id": "T9bnkQOYmMYu",
        "outputId": "6afd2257-b95d-49c1-f175-3780e64b50b8"
      },
      "execution_count": 76,
      "outputs": [
        {
          "output_type": "stream",
          "name": "stdout",
          "text": [
            "Parameter a = 0.8; dL/d[a] = 0.0\n"
          ]
        }
      ]
    },
    {
      "cell_type": "code",
      "source": [
        "a = Parameter(1.0, \"a\")\n",
        "b = Parameter(2.0, \"b\")\n",
        "a._grad = 2.0\n",
        "b._grad = 1.0\n",
        "\n",
        "sgd([a, b], learning_rate=0.1)\n",
        "\n",
        "print(a)\n",
        "print(b)"
      ],
      "metadata": {
        "colab": {
          "base_uri": "https://localhost:8080/"
        },
        "id": "lTRu-j2YsoZw",
        "outputId": "9042a909-f60a-4851-e084-ab6ac697b89e"
      },
      "execution_count": 77,
      "outputs": [
        {
          "output_type": "stream",
          "name": "stdout",
          "text": [
            "Parameter a = 0.8; dL/d[a] = 0.0\n",
            "Parameter b = 1.9; dL/d[b] = 0.0\n"
          ]
        }
      ]
    },
    {
      "cell_type": "code",
      "source": [
        "a = Parameter(1.0, \"a\")\n",
        "b = Parameter(2.0, \"b\")\n",
        "c = a * b\n",
        "d = c.sigmoid()\n",
        "e = d + a\n",
        "\n",
        "e.backward()\n",
        "\n",
        "parameters = [a, b, c, d, e]\n",
        "sgd(parameters, learning_rate=0.1)\n",
        "\n",
        "for param in parameters:\n",
        "    print(param)"
      ],
      "metadata": {
        "colab": {
          "base_uri": "https://localhost:8080/"
        },
        "id": "LvMZ8zyssq-b",
        "outputId": "1f1e91d4-4dc0-4da2-a362-8e0f97d8db94"
      },
      "execution_count": 78,
      "outputs": [
        {
          "output_type": "stream",
          "name": "stdout",
          "text": [
            "Parameter a = 0.8790012829192987; dL/d[a] = 0.0\n",
            "Parameter b = 1.9895006414596494; dL/d[b] = 0.0\n",
            "Parameter a * b = 1.9895006414596494; dL/d[a * b] = 0.0\n",
            "Parameter σ(a * b) = 0.7807970779778823; dL/d[σ(a * b)] = 0.0\n",
            "Parameter [σ(a * b) + a] = 1.7807970779778821; dL/d[[σ(a * b) + a]] = 0.0\n"
          ]
        }
      ]
    }
  ]
}